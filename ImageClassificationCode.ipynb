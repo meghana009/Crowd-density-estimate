{
  "nbformat": 4,
  "nbformat_minor": 0,
  "metadata": {
    "colab": {
      "name": "ImageClassificationCode.ipynb",
      "provenance": [],
      "collapsed_sections": [],
      "toc_visible": true,
      "include_colab_link": true
    },
    "kernelspec": {
      "name": "python3",
      "display_name": "Python 3"
    },
    "accelerator": "GPU"
  },
  "cells": [
    {
      "cell_type": "markdown",
      "metadata": {
        "id": "view-in-github",
        "colab_type": "text"
      },
      "source": [
        "<a href=\"https://colab.research.google.com/github/meghana009/Crowd-density-estimate/blob/master/ImageClassificationCode.ipynb\" target=\"_parent\"><img src=\"https://colab.research.google.com/assets/colab-badge.svg\" alt=\"Open In Colab\"/></a>"
      ]
    },
    {
      "cell_type": "code",
      "metadata": {
        "id": "bKjHZPgh7Aaa",
        "colab_type": "code",
        "colab": {}
      },
      "source": [
        "from keras.models import Sequential\n",
        "from keras.layers import Convolution2D\n",
        "from keras.layers import MaxPooling2D\n",
        "from keras.layers import Flatten\n",
        "from keras.layers import Dense\n",
        "from keras.layers import Dropout\n",
        "!apt install unzip\n",
        "from sklearn.linear_model import LogisticRegression\n",
        "from sklearn.metrics import confusion_matrix\n",
        "import sklearn.metrics as metrics"
      ],
      "execution_count": null,
      "outputs": []
    },
    {
      "cell_type": "code",
      "metadata": {
        "id": "GpzppDFyA_qy",
        "colab_type": "code",
        "colab": {}
      },
      "source": [
        "from google.colab import drive\n",
        "drive.mount('/content/gdrive')"
      ],
      "execution_count": null,
      "outputs": []
    },
    {
      "cell_type": "code",
      "metadata": {
        "id": "DMHWfqu-HSRV",
        "colab_type": "code",
        "colab": {}
      },
      "source": [
        "!unzip -q \"/content/gdrive/My Drive/NewD/Dataset.zip\""
      ],
      "execution_count": null,
      "outputs": []
    },
    {
      "cell_type": "code",
      "metadata": {
        "id": "HKzmlcKSFQVY",
        "colab_type": "code",
        "colab": {}
      },
      "source": [
        "from keras.models import load_model\n",
        "classifier = load_model('/content/BUS3.h5')"
      ],
      "execution_count": null,
      "outputs": []
    },
    {
      "cell_type": "code",
      "metadata": {
        "id": "yoX_9BYXPYpB",
        "colab_type": "code",
        "colab": {}
      },
      "source": [
        "classifier = Sequential()\n"
      ],
      "execution_count": null,
      "outputs": []
    },
    {
      "cell_type": "code",
      "metadata": {
        "id": "8oS-pbndPdWH",
        "colab_type": "code",
        "colab": {}
      },
      "source": [
        "classifier.add(Convolution2D(32, 3, 3, input_shape = (64, 64, 3), activation = 'relu'))\n",
        "classifier.add(MaxPooling2D(pool_size = (2, 2)))\n",
        "classifier.add(Convolution2D(32, 3, 3, activation = 'relu'))\n",
        "classifier.add(MaxPooling2D(pool_size = (2, 2)))\n",
        "classifier.add(Flatten())\n",
        "classifier.add(Dense(output_dim = 128, activation = 'relu'))\n",
        "classifier.add(Dense(output_dim = 5, activation = 'sigmoid'))"
      ],
      "execution_count": null,
      "outputs": []
    },
    {
      "cell_type": "code",
      "metadata": {
        "id": "lpFuFEzZPx6X",
        "colab_type": "code",
        "colab": {}
      },
      "source": [
        "classifier.compile(optimizer = 'adam', loss = 'categorical_crossentropy', metrics = ['accuracy'])"
      ],
      "execution_count": null,
      "outputs": []
    },
    {
      "cell_type": "code",
      "metadata": {
        "id": "mdiv8CUvP2XP",
        "colab_type": "code",
        "colab": {}
      },
      "source": [
        "from keras.preprocessing.image import ImageDataGenerator"
      ],
      "execution_count": null,
      "outputs": []
    },
    {
      "cell_type": "code",
      "metadata": {
        "id": "TLloyl24P7hR",
        "colab_type": "code",
        "colab": {}
      },
      "source": [
        "train_datagen = ImageDataGenerator(rescale = 1./255,\n",
        "                                   shear_range = 0.2,\n",
        "                                   zoom_range = 0.2,\n",
        "                                   horizontal_flip = True)\n",
        "\n",
        "test_datagen = ImageDataGenerator(rescale = 1./255)"
      ],
      "execution_count": null,
      "outputs": []
    },
    {
      "cell_type": "code",
      "metadata": {
        "id": "DsMzt7aYP_8z",
        "colab_type": "code",
        "colab": {}
      },
      "source": [
        "training_set = train_datagen.flow_from_directory('/content/Dataset/Train',\n",
        "                                                 target_size = (64, 64),\n",
        "                                                 batch_size = 32,\n",
        "                                                 class_mode = 'categorical')"
      ],
      "execution_count": null,
      "outputs": []
    },
    {
      "cell_type": "code",
      "metadata": {
        "id": "HXdrHJSuQvFL",
        "colab_type": "code",
        "colab": {}
      },
      "source": [
        "test_set = test_datagen.flow_from_directory('/content/Dataset/Test',\n",
        "                                            target_size = (64, 64),\n",
        "                                            batch_size = 32,\n",
        "                                            class_mode = 'categorical')"
      ],
      "execution_count": null,
      "outputs": []
    },
    {
      "cell_type": "code",
      "metadata": {
        "id": "VSPX7gn0Q3RR",
        "colab_type": "code",
        "colab": {
          "base_uri": "https://localhost:8080/",
          "height": 297
        },
        "outputId": "edae2e34-c198-41d5-f272-2c344d9a8082"
      },
      "source": [
        "classifier.fit_generator(training_set,\n",
        "                         samples_per_epoch = 4500,\n",
        "                         nb_epoch = 5,\n",
        "                         validation_data = test_set,\n",
        "                         nb_val_samples = 1500)"
      ],
      "execution_count": null,
      "outputs": [
        {
          "output_type": "stream",
          "text": [
            "/usr/local/lib/python3.6/dist-packages/ipykernel_launcher.py:5: UserWarning: The semantics of the Keras 2 argument `steps_per_epoch` is not the same as the Keras 1 argument `samples_per_epoch`. `steps_per_epoch` is the number of batches to draw from the generator at each epoch. Basically steps_per_epoch = samples_per_epoch/batch_size. Similarly `nb_val_samples`->`validation_steps` and `val_samples`->`steps` arguments have changed. Update your method calls accordingly.\n",
            "  \"\"\"\n",
            "/usr/local/lib/python3.6/dist-packages/ipykernel_launcher.py:5: UserWarning: Update your `fit_generator` call to the Keras 2 API: `fit_generator(<keras_pre..., validation_data=<keras_pre..., steps_per_epoch=140, epochs=5, validation_steps=1500)`\n",
            "  \"\"\"\n"
          ],
          "name": "stderr"
        },
        {
          "output_type": "stream",
          "text": [
            "Epoch 1/5\n",
            "140/140 [==============================] - 1173s 8s/step - loss: 0.3991 - acc: 0.8502 - val_loss: 0.8438 - val_acc: 0.8035\n",
            "Epoch 2/5\n",
            "140/140 [==============================] - 1166s 8s/step - loss: 0.0507 - acc: 0.9839 - val_loss: 0.5152 - val_acc: 0.8479\n",
            "Epoch 3/5\n",
            "140/140 [==============================] - 1169s 8s/step - loss: 0.0263 - acc: 0.9924 - val_loss: 0.9861 - val_acc: 0.8655\n",
            "Epoch 4/5\n",
            "140/140 [==============================] - 1168s 8s/step - loss: 0.0070 - acc: 0.9984 - val_loss: 0.8695 - val_acc: 0.9252\n",
            "Epoch 5/5\n",
            "140/140 [==============================] - 1173s 8s/step - loss: 0.0087 - acc: 0.9978 - val_loss: 0.3460 - val_acc: 0.9309\n"
          ],
          "name": "stdout"
        },
        {
          "output_type": "execute_result",
          "data": {
            "text/plain": [
              "<keras.callbacks.History at 0x7fc5239a3b70>"
            ]
          },
          "metadata": {
            "tags": []
          },
          "execution_count": 24
        }
      ]
    },
    {
      "cell_type": "markdown",
      "metadata": {
        "id": "Fsg_-Laff5Yo",
        "colab_type": "text"
      },
      "source": [
        ""
      ]
    },
    {
      "cell_type": "code",
      "metadata": {
        "id": "X-N1dehqFkM-",
        "colab_type": "code",
        "colab": {}
      },
      "source": [
        "from keras.models import load_model\n",
        "classifier.save('BUS3.h5')\n",
        "classifier.save_weights('BUS3Weight3.h5')"
      ],
      "execution_count": null,
      "outputs": []
    },
    {
      "cell_type": "code",
      "metadata": {
        "id": "rhq6koBSO3dS",
        "colab_type": "code",
        "colab": {
          "base_uri": "https://localhost:8080/",
          "height": 35
        },
        "outputId": "4bedb508-16f5-4b54-badf-c196a84357cf"
      },
      "source": [
        "import numpy as np\n",
        "from google.colab import files\n",
        "from keras.preprocessing import image\n",
        "import cv2\n",
        "\n",
        "test_image = image.load_img('/content/gdrive/My Drive/BE_Project/dataset/Testimage.jpg', target_size = (64,64))\n",
        "x = image.img_to_array(test_image)\n",
        "x = np.expand_dims(x, axis=0)\n",
        "\n",
        "images = np.vstack([x])\n",
        "classes = classifier.predict(images, batch_size=32)\n",
        "  \n",
        "  ##cv2.imshow(fn)\n",
        "  #print(max(classes))\n",
        "Labels=['High','Low','Moderate','Very High','Very Low']   ### please write your classes names\n",
        "index=np.argmax(classes)\n",
        "print(Labels[index])"
      ],
      "execution_count": null,
      "outputs": [
        {
          "output_type": "stream",
          "text": [
            "Very High\n"
          ],
          "name": "stdout"
        }
      ]
    },
    {
      "cell_type": "code",
      "metadata": {
        "id": "9Wn-EWi-_vjR",
        "colab_type": "code",
        "colab": {}
      },
      "source": [
        "!pip install requests\n",
        "!pip install python-firebase"
      ],
      "execution_count": null,
      "outputs": []
    },
    {
      "cell_type": "code",
      "metadata": {
        "id": "I8E9q7sYA6_X",
        "colab_type": "code",
        "colab": {}
      },
      "source": [
        "from firebase import firebase\n",
        "\n",
        "firebase=firebase.FirebaseApplication('https://sampleproj-1dada.firebaseio.com/')\n",
        "\n",
        "#result=firebase.patch('/user',{'new':prediction})\n",
        "result=firebase.get('/user/new',None)\n",
        "print (result)"
      ],
      "execution_count": null,
      "outputs": []
    }
  ]
}